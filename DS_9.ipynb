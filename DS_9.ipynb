{
  "nbformat": 4,
  "nbformat_minor": 0,
  "metadata": {
    "colab": {
      "provenance": []
    },
    "kernelspec": {
      "name": "python3",
      "display_name": "Python 3"
    },
    "language_info": {
      "name": "python"
    }
  },
  "cells": [
    {
      "cell_type": "code",
      "source": [
        "import tensorflow as tf\n",
        "from tensorflow.keras import layers, models, optimizers, regularizers\n",
        "from tensorflow.keras.datasets import fashion_mnist\n",
        "from tensorflow.keras.utils import to_categorical"
      ],
      "metadata": {
        "id": "Lxk_r00tkh6m"
      },
      "execution_count": null,
      "outputs": []
    },
    {
      "cell_type": "code",
      "execution_count": null,
      "metadata": {
        "colab": {
          "base_uri": "https://localhost:8080/"
        },
        "id": "W2U6CvkAcpaw",
        "outputId": "eec10dc9-db7d-4cdc-eb2b-74d69a143c8f"
      },
      "outputs": [
        {
          "output_type": "stream",
          "name": "stdout",
          "text": [
            "313/313 [==============================] - 1s 2ms/step - loss: 0.3174 - accuracy: 0.8887\n",
            "Test accuracy: 0.888700008392334\n",
            "Test accuracy: 88.87%\n"
          ]
        }
      ],
      "source": [
        "(train_images, train_labels), (test_images, test_labels) = fashion_mnist.load_data()\n",
        "train_images = train_images.reshape((60000, 28, 28, 1)).astype('float32') / 255\n",
        "test_images = test_images.reshape((10000, 28, 28, 1)).astype('float32') / 255\n",
        "train_labels = to_categorical(train_labels)\n",
        "test_labels = to_categorical(test_labels)\n",
        "\n",
        "model = models.Sequential()\n",
        "model.add(layers.Flatten(input_shape=(28, 28)))\n",
        "model.add(layers.Dense(256, activation='relu'))\n",
        "model.add(layers.Dropout(0.2))\n",
        "model.add(layers.Dense(128, activation='relu'))\n",
        "model.add(layers.Dropout(0.2))\n",
        "model.add(layers.Dense(64, activation='relu'))\n",
        "model.add(layers.Dense(10, activation='softmax'))\n",
        "\n",
        "\n",
        "model.compile(optimizer='adam',\n",
        "              loss='categorical_crossentropy',\n",
        "              metrics=['accuracy'])\n",
        "\n",
        "history = model.fit(train_images, train_labels, epochs=20, batch_size=128, validation_data=(test_images, test_labels), verbose=0)\n",
        "\n",
        "test_loss, test_acc = model.evaluate(test_images, test_labels)\n",
        "print('Test accuracy:', test_acc)\n",
        "print(f'Test accuracy: {test_acc * 100:.2f}%')"
      ]
    },
    {
      "cell_type": "code",
      "source": [
        "model = models.Sequential()\n",
        "model.add(layers.Flatten(input_shape=(28, 28)))\n",
        "model.add(layers.Dense(128, activation='relu'))\n",
        "model.add(layers.Dense(10, activation='softmax'))\n",
        "\n",
        "model.compile(optimizer='adam',\n",
        "              loss='categorical_crossentropy',\n",
        "              metrics=['accuracy'])\n",
        "\n",
        "history = model.fit(train_images, train_labels, epochs=20, batch_size=128, validation_data=(test_images, test_labels), verbose=0)\n",
        "\n",
        "test_loss, test_acc = model.evaluate(test_images, test_labels)\n",
        "print('Test accuracy:', test_acc)\n",
        "print(f'Test accuracy: {test_acc * 100:.2f}%')"
      ],
      "metadata": {
        "colab": {
          "base_uri": "https://localhost:8080/"
        },
        "id": "gJ-iV8E1VqIz",
        "outputId": "11c02669-2f63-4448-b67a-63eaddc94a1b"
      },
      "execution_count": null,
      "outputs": [
        {
          "output_type": "stream",
          "name": "stdout",
          "text": [
            "313/313 [==============================] - 1s 2ms/step - loss: 0.3323 - accuracy: 0.8895\n",
            "Test accuracy: 0.8895000219345093\n",
            "Test accuracy: 88.95%\n"
          ]
        }
      ]
    },
    {
      "cell_type": "code",
      "source": [
        "model1 = models.Sequential()\n",
        "model1.add(layers.Flatten(input_shape=(28, 28)))\n",
        "model1.add(layers.Dense(256, activation='relu', kernel_regularizer=regularizers.l2(0.001)))\n",
        "model1.add(layers.Dense(128, activation='relu', kernel_regularizer=regularizers.l2(0.001)))\n",
        "model1.add(layers.Dense(64, activation='relu', kernel_regularizer=regularizers.l2(0.001)))\n",
        "model1.add(layers.Dense(10, activation='softmax'))\n",
        "\n",
        "model1.compile(optimizer='adam',\n",
        "              loss='categorical_crossentropy',\n",
        "              metrics=['accuracy'])\n",
        "\n",
        "history = model1.fit(train_images, train_labels, epochs=20, batch_size=64, validation_data=(test_images, test_labels), verbose=0)\n",
        "\n",
        "test_loss, test_acc = model1.evaluate(test_images, test_labels)\n",
        "print('Test accuracy:', test_acc)\n",
        "print(f'Test accuracy: {test_acc * 100:.2f}%')"
      ],
      "metadata": {
        "colab": {
          "base_uri": "https://localhost:8080/"
        },
        "id": "U6g1QBNRdaAg",
        "outputId": "1b0696cd-0d79-477b-f01b-542ed4599f58"
      },
      "execution_count": null,
      "outputs": [
        {
          "output_type": "stream",
          "name": "stdout",
          "text": [
            "313/313 [==============================] - 1s 2ms/step - loss: 0.4300 - accuracy: 0.8732\n",
            "Test accuracy: 0.873199999332428\n",
            "Test accuracy: 87.32%\n"
          ]
        }
      ]
    },
    {
      "cell_type": "code",
      "source": [
        "model2 = models.Sequential()\n",
        "model2.add(layers.Flatten(input_shape=(28, 28)))\n",
        "model2.add(layers.Dense(256, activation='relu'))\n",
        "model2.add(layers.Dropout(0.2))\n",
        "model2.add(layers.Dense(128, activation='relu'))\n",
        "model2.add(layers.Dropout(0.2))\n",
        "model2.add(layers.Dense(64, activation='relu'))\n",
        "model2.add(layers.Dropout(0.2))\n",
        "model2.add(layers.Dense(10, activation='softmax'))\n",
        "\n",
        "model2.compile(optimizer= 'rmsprop',\n",
        "              loss='categorical_crossentropy',\n",
        "              metrics=['accuracy'])\n",
        "\n",
        "history = model2.fit(train_images, train_labels, epochs=20, batch_size=128, validation_data=(test_images, test_labels), verbose=0)\n",
        "\n",
        "test_loss, test_acc = model2.evaluate(test_images, test_labels)\n",
        "print('Test accuracy:', test_acc)\n",
        "print(f'Test accuracy: {test_acc * 100:.2f}%')"
      ],
      "metadata": {
        "colab": {
          "base_uri": "https://localhost:8080/"
        },
        "id": "DvNyfKYNfS43",
        "outputId": "e3bf88a2-db28-45bf-c9c3-8f9938a5fb18"
      },
      "execution_count": null,
      "outputs": [
        {
          "output_type": "stream",
          "name": "stdout",
          "text": [
            "313/313 [==============================] - 1s 2ms/step - loss: 0.3395 - accuracy: 0.8878\n",
            "Test accuracy: 0.8877999782562256\n",
            "Test accuracy: 88.78%\n"
          ]
        }
      ]
    },
    {
      "cell_type": "code",
      "source": [
        "model3 = models.Sequential()\n",
        "model3.add(layers.Flatten(input_shape=(28, 28)))\n",
        "model3.add(layers.Dense(256, activation='relu'))\n",
        "model3.add(layers.Dropout(0.5))\n",
        "model3.add(layers.Dense(128, activation='relu'))\n",
        "model3.add(layers.Dropout(0.5))\n",
        "model3.add(layers.Dense(10, activation='softmax'))\n",
        "\n",
        "model3.compile(optimizer='adam',\n",
        "              loss='categorical_crossentropy',\n",
        "              metrics=['accuracy'])\n",
        "\n",
        "history = model3.fit(train_images, train_labels, epochs=30, batch_size=128, validation_data=(test_images, test_labels), verbose=0)\n",
        "\n",
        "test_loss, test_acc = model3.evaluate(test_images, test_labels)\n",
        "print('Test accuracy:', test_acc)\n",
        "print(f'Test accuracy: {test_acc * 100:.2f}%')"
      ],
      "metadata": {
        "colab": {
          "base_uri": "https://localhost:8080/"
        },
        "id": "d6YiFDvMgQ_4",
        "outputId": "27e1c5e3-5c1d-4fea-a3a4-e415c748b854"
      },
      "execution_count": null,
      "outputs": [
        {
          "output_type": "stream",
          "name": "stdout",
          "text": [
            "313/313 [==============================] - 1s 2ms/step - loss: 0.3254 - accuracy: 0.8834\n",
            "Test accuracy: 0.883400022983551\n",
            "Test accuracy: 88.34%\n"
          ]
        }
      ]
    },
    {
      "cell_type": "code",
      "source": [
        "from tensorflow.keras.preprocessing.image import ImageDataGenerator\n",
        "from tensorflow.keras.callbacks import EarlyStopping, ReduceLROnPlateau\n",
        "\n",
        "model4 = models.Sequential()\n",
        "model4.add(layers.Flatten(input_shape=(28, 28)))\n",
        "model4.add(layers.Dense(256, activation='relu'))\n",
        "model4.add(layers.Dense(128, activation='relu'))\n",
        "model4.add(layers.Dense(64, activation='relu'))\n",
        "model4.add(layers.Dense(10, activation='softmax'))\n",
        "\n",
        "model4.compile(optimizer=optimizers.Adam(learning_rate=0.0001),\n",
        "              loss='categorical_crossentropy',\n",
        "              metrics=['accuracy'])\n",
        "\n",
        "early_stopping = EarlyStopping(monitor='val_loss', patience=5, restore_best_weights=True)\n",
        "reduce_lr = ReduceLROnPlateau(monitor='val_loss', factor=0.1, patience=3, min_lr=1e-7)\n",
        "\n",
        "history = model4.fit(train_images, train_labels, batch_size=64,\n",
        "                    epochs=50,\n",
        "                    validation_data=(test_images, test_labels),\n",
        "                    callbacks=[early_stopping, reduce_lr],\n",
        "                    verbose=2)\n",
        "\n",
        "test_loss, test_acc = model4.evaluate(test_images, test_labels)\n",
        "print(f'Test accuracy: {test_acc * 100:.2f}%')"
      ],
      "metadata": {
        "colab": {
          "base_uri": "https://localhost:8080/"
        },
        "id": "ihkSegj9mn09",
        "outputId": "e8baf496-f8e1-4237-9b18-e9f01181fb81"
      },
      "execution_count": null,
      "outputs": [
        {
          "output_type": "stream",
          "name": "stdout",
          "text": [
            "Epoch 1/50\n",
            "938/938 - 6s - loss: 0.7005 - accuracy: 0.7788 - val_loss: 0.4882 - val_accuracy: 0.8326 - lr: 1.0000e-04 - 6s/epoch - 6ms/step\n",
            "Epoch 2/50\n",
            "938/938 - 5s - loss: 0.4345 - accuracy: 0.8486 - val_loss: 0.4366 - val_accuracy: 0.8461 - lr: 1.0000e-04 - 5s/epoch - 5ms/step\n",
            "Epoch 3/50\n",
            "938/938 - 4s - loss: 0.3923 - accuracy: 0.8613 - val_loss: 0.4160 - val_accuracy: 0.8531 - lr: 1.0000e-04 - 4s/epoch - 5ms/step\n",
            "Epoch 4/50\n",
            "938/938 - 5s - loss: 0.3657 - accuracy: 0.8699 - val_loss: 0.3906 - val_accuracy: 0.8635 - lr: 1.0000e-04 - 5s/epoch - 6ms/step\n",
            "Epoch 5/50\n",
            "938/938 - 4s - loss: 0.3465 - accuracy: 0.8767 - val_loss: 0.3803 - val_accuracy: 0.8657 - lr: 1.0000e-04 - 4s/epoch - 5ms/step\n",
            "Epoch 6/50\n",
            "938/938 - 5s - loss: 0.3317 - accuracy: 0.8817 - val_loss: 0.3782 - val_accuracy: 0.8655 - lr: 1.0000e-04 - 5s/epoch - 5ms/step\n",
            "Epoch 7/50\n",
            "938/938 - 5s - loss: 0.3183 - accuracy: 0.8871 - val_loss: 0.3711 - val_accuracy: 0.8678 - lr: 1.0000e-04 - 5s/epoch - 6ms/step\n",
            "Epoch 8/50\n",
            "938/938 - 4s - loss: 0.3078 - accuracy: 0.8893 - val_loss: 0.3618 - val_accuracy: 0.8711 - lr: 1.0000e-04 - 4s/epoch - 5ms/step\n",
            "Epoch 9/50\n",
            "938/938 - 5s - loss: 0.2986 - accuracy: 0.8932 - val_loss: 0.3514 - val_accuracy: 0.8766 - lr: 1.0000e-04 - 5s/epoch - 6ms/step\n",
            "Epoch 10/50\n",
            "938/938 - 5s - loss: 0.2896 - accuracy: 0.8963 - val_loss: 0.3446 - val_accuracy: 0.8775 - lr: 1.0000e-04 - 5s/epoch - 5ms/step\n",
            "Epoch 11/50\n",
            "938/938 - 5s - loss: 0.2807 - accuracy: 0.8985 - val_loss: 0.3452 - val_accuracy: 0.8752 - lr: 1.0000e-04 - 5s/epoch - 5ms/step\n",
            "Epoch 12/50\n",
            "938/938 - 6s - loss: 0.2733 - accuracy: 0.9018 - val_loss: 0.3363 - val_accuracy: 0.8789 - lr: 1.0000e-04 - 6s/epoch - 6ms/step\n",
            "Epoch 13/50\n",
            "938/938 - 5s - loss: 0.2637 - accuracy: 0.9046 - val_loss: 0.3334 - val_accuracy: 0.8794 - lr: 1.0000e-04 - 5s/epoch - 5ms/step\n",
            "Epoch 14/50\n",
            "938/938 - 6s - loss: 0.2586 - accuracy: 0.9058 - val_loss: 0.3291 - val_accuracy: 0.8797 - lr: 1.0000e-04 - 6s/epoch - 6ms/step\n",
            "Epoch 15/50\n",
            "938/938 - 5s - loss: 0.2518 - accuracy: 0.9091 - val_loss: 0.3380 - val_accuracy: 0.8780 - lr: 1.0000e-04 - 5s/epoch - 5ms/step\n",
            "Epoch 16/50\n",
            "938/938 - 5s - loss: 0.2463 - accuracy: 0.9110 - val_loss: 0.3237 - val_accuracy: 0.8856 - lr: 1.0000e-04 - 5s/epoch - 6ms/step\n",
            "Epoch 17/50\n",
            "938/938 - 5s - loss: 0.2406 - accuracy: 0.9132 - val_loss: 0.3404 - val_accuracy: 0.8801 - lr: 1.0000e-04 - 5s/epoch - 5ms/step\n",
            "Epoch 18/50\n",
            "938/938 - 5s - loss: 0.2337 - accuracy: 0.9157 - val_loss: 0.3238 - val_accuracy: 0.8818 - lr: 1.0000e-04 - 5s/epoch - 5ms/step\n",
            "Epoch 19/50\n",
            "938/938 - 5s - loss: 0.2290 - accuracy: 0.9168 - val_loss: 0.3230 - val_accuracy: 0.8844 - lr: 1.0000e-04 - 5s/epoch - 6ms/step\n",
            "Epoch 20/50\n",
            "938/938 - 5s - loss: 0.2237 - accuracy: 0.9181 - val_loss: 0.3295 - val_accuracy: 0.8864 - lr: 1.0000e-04 - 5s/epoch - 5ms/step\n",
            "Epoch 21/50\n",
            "938/938 - 5s - loss: 0.2196 - accuracy: 0.9208 - val_loss: 0.3221 - val_accuracy: 0.8877 - lr: 1.0000e-04 - 5s/epoch - 6ms/step\n",
            "Epoch 22/50\n",
            "938/938 - 4s - loss: 0.2140 - accuracy: 0.9225 - val_loss: 0.3229 - val_accuracy: 0.8867 - lr: 1.0000e-04 - 4s/epoch - 5ms/step\n",
            "Epoch 23/50\n",
            "938/938 - 5s - loss: 0.2091 - accuracy: 0.9237 - val_loss: 0.3286 - val_accuracy: 0.8871 - lr: 1.0000e-04 - 5s/epoch - 5ms/step\n",
            "Epoch 24/50\n",
            "938/938 - 6s - loss: 0.2035 - accuracy: 0.9266 - val_loss: 0.3200 - val_accuracy: 0.8888 - lr: 1.0000e-04 - 6s/epoch - 6ms/step\n",
            "Epoch 25/50\n",
            "938/938 - 5s - loss: 0.1989 - accuracy: 0.9284 - val_loss: 0.3143 - val_accuracy: 0.8911 - lr: 1.0000e-04 - 5s/epoch - 5ms/step\n",
            "Epoch 26/50\n",
            "938/938 - 5s - loss: 0.1965 - accuracy: 0.9288 - val_loss: 0.3143 - val_accuracy: 0.8913 - lr: 1.0000e-04 - 5s/epoch - 6ms/step\n",
            "Epoch 27/50\n",
            "938/938 - 4s - loss: 0.1907 - accuracy: 0.9305 - val_loss: 0.3363 - val_accuracy: 0.8859 - lr: 1.0000e-04 - 4s/epoch - 5ms/step\n",
            "Epoch 28/50\n",
            "938/938 - 4s - loss: 0.1863 - accuracy: 0.9327 - val_loss: 0.3352 - val_accuracy: 0.8873 - lr: 1.0000e-04 - 4s/epoch - 5ms/step\n",
            "Epoch 29/50\n",
            "938/938 - 5s - loss: 0.1649 - accuracy: 0.9429 - val_loss: 0.3144 - val_accuracy: 0.8919 - lr: 1.0000e-05 - 5s/epoch - 6ms/step\n",
            "Epoch 30/50\n",
            "938/938 - 4s - loss: 0.1622 - accuracy: 0.9436 - val_loss: 0.3120 - val_accuracy: 0.8933 - lr: 1.0000e-05 - 4s/epoch - 5ms/step\n",
            "Epoch 31/50\n",
            "938/938 - 5s - loss: 0.1609 - accuracy: 0.9441 - val_loss: 0.3138 - val_accuracy: 0.8915 - lr: 1.0000e-05 - 5s/epoch - 5ms/step\n",
            "Epoch 32/50\n",
            "938/938 - 5s - loss: 0.1602 - accuracy: 0.9446 - val_loss: 0.3146 - val_accuracy: 0.8925 - lr: 1.0000e-05 - 5s/epoch - 5ms/step\n",
            "Epoch 33/50\n",
            "938/938 - 4s - loss: 0.1595 - accuracy: 0.9447 - val_loss: 0.3146 - val_accuracy: 0.8926 - lr: 1.0000e-05 - 4s/epoch - 5ms/step\n",
            "Epoch 34/50\n",
            "938/938 - 5s - loss: 0.1567 - accuracy: 0.9459 - val_loss: 0.3134 - val_accuracy: 0.8919 - lr: 1.0000e-06 - 5s/epoch - 6ms/step\n",
            "Epoch 35/50\n",
            "938/938 - 5s - loss: 0.1564 - accuracy: 0.9464 - val_loss: 0.3134 - val_accuracy: 0.8934 - lr: 1.0000e-06 - 5s/epoch - 5ms/step\n",
            "313/313 [==============================] - 1s 2ms/step - loss: 0.3120 - accuracy: 0.8933\n",
            "Test accuracy: 89.33%\n"
          ]
        }
      ]
    },
    {
      "cell_type": "code",
      "source": [
        "model5 = models.Sequential()\n",
        "model5.add(layers.Conv2D(32, (3, 3), activation='relu', input_shape=(28, 28, 1)))\n",
        "model5.add(layers.MaxPooling2D((2, 2)))\n",
        "model5.add(layers.Conv2D(64, (3, 3), activation='relu'))\n",
        "model5.add(layers.MaxPooling2D((2, 2)))\n",
        "model5.add(layers.Conv2D(64, (3, 3), activation='relu'))\n",
        "model5.add(layers.Flatten())\n",
        "model5.add(layers.Dense(64, activation='relu'))\n",
        "model5.add(layers.Dense(10, activation='softmax'))\n",
        "\n",
        "model5.compile(optimizer='adam',\n",
        "              loss='categorical_crossentropy',\n",
        "              metrics=['accuracy'])\n",
        "\n",
        "# Навчаємо модель\n",
        "history = model5.fit(train_images, train_labels, epochs=20, batch_size=128, validation_data=(test_images, test_labels))\n",
        "\n",
        "test_loss, test_acc = model5.evaluate(test_images, test_labels)\n",
        "print('Test accuracy:', test_acc)\n",
        "print(f'Test accuracy: {test_acc * 100:.2f}%')"
      ],
      "metadata": {
        "colab": {
          "base_uri": "https://localhost:8080/"
        },
        "id": "FbwRD6ir4dcY",
        "outputId": "68a384f3-7893-48cf-9b78-68cdb34e0b73"
      },
      "execution_count": null,
      "outputs": [
        {
          "output_type": "stream",
          "name": "stdout",
          "text": [
            "Epoch 1/20\n",
            "469/469 [==============================] - 47s 96ms/step - loss: 0.6184 - accuracy: 0.7746 - val_loss: 0.4416 - val_accuracy: 0.8411\n",
            "Epoch 2/20\n",
            "469/469 [==============================] - 50s 107ms/step - loss: 0.3817 - accuracy: 0.8626 - val_loss: 0.3654 - val_accuracy: 0.8682\n",
            "Epoch 3/20\n",
            "469/469 [==============================] - 44s 94ms/step - loss: 0.3230 - accuracy: 0.8835 - val_loss: 0.3212 - val_accuracy: 0.8834\n",
            "Epoch 4/20\n",
            "469/469 [==============================] - 43s 92ms/step - loss: 0.2911 - accuracy: 0.8943 - val_loss: 0.3107 - val_accuracy: 0.8863\n",
            "Epoch 5/20\n",
            "469/469 [==============================] - 44s 93ms/step - loss: 0.2678 - accuracy: 0.9028 - val_loss: 0.2851 - val_accuracy: 0.8953\n",
            "Epoch 6/20\n",
            "469/469 [==============================] - 43s 92ms/step - loss: 0.2467 - accuracy: 0.9089 - val_loss: 0.2815 - val_accuracy: 0.8966\n",
            "Epoch 7/20\n",
            "469/469 [==============================] - 43s 91ms/step - loss: 0.2321 - accuracy: 0.9149 - val_loss: 0.2835 - val_accuracy: 0.8970\n",
            "Epoch 8/20\n",
            "469/469 [==============================] - 45s 95ms/step - loss: 0.2177 - accuracy: 0.9187 - val_loss: 0.2641 - val_accuracy: 0.9029\n",
            "Epoch 9/20\n",
            "469/469 [==============================] - 43s 91ms/step - loss: 0.2049 - accuracy: 0.9243 - val_loss: 0.2629 - val_accuracy: 0.9047\n",
            "Epoch 10/20\n",
            "469/469 [==============================] - 44s 93ms/step - loss: 0.1935 - accuracy: 0.9288 - val_loss: 0.2712 - val_accuracy: 0.9025\n",
            "Epoch 11/20\n",
            "469/469 [==============================] - 44s 93ms/step - loss: 0.1821 - accuracy: 0.9329 - val_loss: 0.2677 - val_accuracy: 0.9039\n",
            "Epoch 12/20\n",
            "469/469 [==============================] - 44s 93ms/step - loss: 0.1711 - accuracy: 0.9364 - val_loss: 0.2862 - val_accuracy: 0.8982\n",
            "Epoch 13/20\n",
            "469/469 [==============================] - 43s 91ms/step - loss: 0.1616 - accuracy: 0.9410 - val_loss: 0.2640 - val_accuracy: 0.9065\n",
            "Epoch 14/20\n",
            "469/469 [==============================] - 44s 93ms/step - loss: 0.1518 - accuracy: 0.9441 - val_loss: 0.2662 - val_accuracy: 0.9082\n",
            "Epoch 15/20\n",
            "469/469 [==============================] - 43s 93ms/step - loss: 0.1420 - accuracy: 0.9476 - val_loss: 0.2544 - val_accuracy: 0.9122\n",
            "Epoch 16/20\n",
            "469/469 [==============================] - 43s 93ms/step - loss: 0.1322 - accuracy: 0.9503 - val_loss: 0.2661 - val_accuracy: 0.9103\n",
            "Epoch 17/20\n",
            "469/469 [==============================] - 44s 93ms/step - loss: 0.1227 - accuracy: 0.9546 - val_loss: 0.2848 - val_accuracy: 0.9104\n",
            "Epoch 18/20\n",
            "469/469 [==============================] - 44s 93ms/step - loss: 0.1168 - accuracy: 0.9555 - val_loss: 0.2898 - val_accuracy: 0.9090\n",
            "Epoch 19/20\n",
            "469/469 [==============================] - 43s 91ms/step - loss: 0.1086 - accuracy: 0.9596 - val_loss: 0.2975 - val_accuracy: 0.9098\n",
            "Epoch 20/20\n",
            "469/469 [==============================] - 43s 91ms/step - loss: 0.0998 - accuracy: 0.9634 - val_loss: 0.2971 - val_accuracy: 0.9123\n",
            "313/313 [==============================] - 3s 11ms/step - loss: 0.2971 - accuracy: 0.9123\n",
            "Test accuracy: 0.9122999906539917\n",
            "Test accuracy: 91.23%\n"
          ]
        }
      ]
    },
    {
      "cell_type": "code",
      "source": [
        "import matplotlib.pyplot as plt\n",
        "def plot_history(history):\n",
        "    plt.figure(figsize=(12, 4))\n",
        "\n",
        "    plt.subplot(1, 2, 1)\n",
        "    plt.plot(history.history['loss'], label='Train Loss')\n",
        "    plt.plot(history.history['val_loss'], label='Validation Loss')\n",
        "    plt.title('Training and Validation Loss')\n",
        "    plt.xlabel('Epochs')\n",
        "    plt.ylabel('Loss')\n",
        "    plt.legend()\n",
        "\n",
        "    plt.subplot(1, 2, 2)\n",
        "    plt.plot(history.history['accuracy'], label='Train Accuracy')\n",
        "    plt.plot(history.history['val_accuracy'], label='Validation Accuracy')\n",
        "    plt.title('Training and Validation Accuracy')\n",
        "    plt.xlabel('Epochs')\n",
        "    plt.ylabel('Accuracy')\n",
        "    plt.legend()\n",
        "\n",
        "    plt.tight_layout()\n",
        "    plt.show()\n",
        "\n",
        "plot_history(history)"
      ],
      "metadata": {
        "colab": {
          "base_uri": "https://localhost:8080/",
          "height": 407
        },
        "id": "CkGhuGjF4nfY",
        "outputId": "c334dfe3-2e91-4d2a-df90-b8b86b4a9b51"
      },
      "execution_count": null,
      "outputs": [
        {
          "output_type": "display_data",
          "data": {
            "text/plain": [
              "<Figure size 1200x400 with 2 Axes>"
            ],
            "image/png": "[encoded data removed]"
          },
          "metadata": {}
        }
      ]
    }
  ]
}